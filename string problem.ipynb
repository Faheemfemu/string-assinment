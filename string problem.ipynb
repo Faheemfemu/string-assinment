{
 "cells": [
  {
   "cell_type": "markdown",
   "metadata": {},
   "source": [
    "# Check Palindrome\n",
    "Given a string, determine if it is a palindrome, considering only alphanumeric characters.\n",
    "Palindrome\n",
    "A palindrome is a word, number, phrase, or other sequences of characters which read the same backwards and forwards.\n",
    "Example:\n",
    "If the input string happens to be, \"malayalam\" then as we see that this word can be read the same as forward and backwards, it is said to be a valid palindrome.\n",
    "\n",
    "The expected output for this example will print, 'true'.\n",
    "From that being said, you are required to return a boolean value from the function that has been asked to implement.\n",
    "Input Format:\n",
    "The first and only line of input contains a string without any leading and trailing spaces. All the characters in the string would be in lower case.\n",
    "Output Format:\n",
    "The only line of output prints either 'true' or 'false'.\n",
    "Note:\n",
    "You are not required to print anything. It has already been taken care of.\n",
    "Constraints:\n",
    "0 <= N <= 10^6\n",
    "Where N is the length of the input string.\n",
    "\n",
    "Time Limit: 1 second\n",
    "Sample Input 1 :\n",
    "abcdcba\n",
    "Sample Output 1 :\n",
    "true \n",
    "Sample Input 2:\n",
    "coding\n",
    "Sample Output 2:\n",
    "false\n"
   ]
  },
  {
   "cell_type": "code",
   "execution_count": 16,
   "metadata": {},
   "outputs": [
    {
     "name": "stdout",
     "output_type": "stream",
     "text": [
      "abcdcba\n",
      "True\n"
     ]
    }
   ],
   "source": [
    "n= input()\n",
    "b=n[-1::-1]\n",
    "if b==n:\n",
    "    print(True)\n",
    "else :\n",
    "    print(False)\n"
   ]
  },
  {
   "cell_type": "markdown",
   "metadata": {},
   "source": [
    "# Print all substrings\n",
    "For a given input string(str), write a function to print all the possible substrings.\n",
    "Substring\n",
    "A substring is a contiguous sequence of characters within a string. \n",
    "Example: \"cod\" is a substring of \"coding\". Whereas, \"cdng\" is not as the characters taken are not contiguous\n",
    "Input Format:\n",
    "The first and only line of input contains a string without any leading and trailing spaces. All the characters in the string would be in lower case.\n",
    "Output Format:\n",
    "Print the total number of substrings possible, where every substring is printed on a single line and hence the total number of output lines will be equal to the total number of substrings.\n",
    "Note:\n",
    "The order in which the substrings are printed, does not matter.\n",
    "Constraints:\n",
    "0 <= N <= 10^6\n",
    "Where N is the length of the input string.\n",
    "\n",
    "Time Limit: 1 second\n",
    "Sample Input 1:\n",
    "abc\n",
    "Sample Output 1:\n",
    "a \n",
    "ab \n",
    "abc \n",
    "b \n",
    "bc \n",
    "c \n",
    " Sample Input 2:\n",
    "co\n",
    "Sample Output 2:\n",
    "c \n",
    "co \n",
    "o\n"
   ]
  },
  {
   "cell_type": "code",
   "execution_count": 24,
   "metadata": {},
   "outputs": [
    {
     "name": "stdout",
     "output_type": "stream",
     "text": [
      "abc\n",
      "a\n",
      "ab\n",
      "abc\n",
      "b\n",
      "bc\n",
      "c\n"
     ]
    }
   ],
   "source": [
    "n=input()\n",
    "for i in range(len(n)):\n",
    "    for j in range(i+1,len(n)+1):\n",
    "        print(n[i:j])\n",
    "    "
   ]
  }
 ],
 "metadata": {
  "kernelspec": {
   "display_name": "Python 3",
   "language": "python",
   "name": "python3"
  },
  "language_info": {
   "codemirror_mode": {
    "name": "ipython",
    "version": 3
   },
   "file_extension": ".py",
   "mimetype": "text/x-python",
   "name": "python",
   "nbconvert_exporter": "python",
   "pygments_lexer": "ipython3",
   "version": "3.8.3"
  }
 },
 "nbformat": 4,
 "nbformat_minor": 4
}
